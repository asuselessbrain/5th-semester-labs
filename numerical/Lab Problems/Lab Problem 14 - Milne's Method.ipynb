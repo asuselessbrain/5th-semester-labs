{
 "cells": [
  {
   "cell_type": "markdown",
   "metadata": {},
   "source": [
    "### Milne's Method"
   ]
  },
  {
   "cell_type": "code",
   "execution_count": 2,
   "metadata": {},
   "outputs": [
    {
     "name": "stdout",
     "output_type": "stream",
     "text": [
      "yp4 =  8.009142857142859\n",
      "fp4 =  8.009142857142859\n",
      "yc4 =  8.002666666666666\n",
      "f4 =  8.002666666666666\n",
      "yc4 =  8.002126984126983\n",
      "Note- the exact solution is y(2) = 8\n"
     ]
    }
   ],
   "source": [
    "from __future__ import division\n",
    "\n",
    "#Milne-Simpson Predictor-Corrector method\n",
    "\n",
    "def f(x,y):\n",
    "    F = 2*y/x\n",
    "    return F\n",
    "x0 = 1 #\n",
    "y0 = 2 #\n",
    "h = 0.25 #\n",
    "#Assuming y1 ,y2 and y3(required for milne-simpson formula) are estimated using Fourth- order Runge kutta method\n",
    "x1 = x0 + h \n",
    "y1 = 3.13 #\n",
    "x2 = x1 + h \n",
    "y2 = 4.5 #\n",
    "x3 = x2 + h\n",
    "y3 = 6.13 #\n",
    "#Milne Predictor formula\n",
    "yp4 = y0 + 4*h*(2*f(x1,y1) - f(x2,y2) + 2*f(x3,y3))/3\n",
    "x4 = x3 + h \n",
    "fp4 = f(x4,yp4) #\n",
    "print ('yp4 = ',yp4)\n",
    "print ('fp4 = ',fp4, )\n",
    "#Simpson Corrector formula\n",
    "yc4 = y2 + h*( f(x2,y2) + 4*f(x3,y3) + fp4)/3 \n",
    "f4 = f(x4,yc4)\n",
    "print ('yc4 = ',yc4)\n",
    "print ('f4 = ',f4 )\n",
    "\n",
    "yc4 = y2 + h*( f(x2,y2) + 4*f(x3,y3) + f4)/3 \n",
    "print ('yc4 = ',yc4 )\n",
    "print ('Note- the exact solution is y(2) = 8')"
   ]
  }
 ],
 "metadata": {
  "kernelspec": {
   "display_name": "Python 3",
   "language": "python",
   "name": "python3"
  },
  "language_info": {
   "name": "python",
   "version": "3.12.3"
  }
 },
 "nbformat": 4,
 "nbformat_minor": 2
}
