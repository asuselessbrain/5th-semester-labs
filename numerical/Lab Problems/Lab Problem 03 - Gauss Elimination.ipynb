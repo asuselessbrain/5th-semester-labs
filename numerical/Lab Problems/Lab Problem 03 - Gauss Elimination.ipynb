{
 "cells": [
  {
   "cell_type": "markdown",
   "metadata": {},
   "source": [
    "# Ref:\n",
    "Book: Qingkai Kong, Timmy Siauw, Alexandre Bayen - Python Programming and Numerical Methods_ A Guide for Engineers and Scientist-Academic Press (2020)\\\n",
    "CHAPTER 14 : LINEAR ALGEBRA AND SYSTEMS OF LINEAR EQUATIONS\\\n",
    "Page: 248"
   ]
  },
  {
   "cell_type": "markdown",
   "metadata": {},
   "source": [
    "TRY IT! Use Gauss elimination to solve the following equations:\\\n",
    "4x_1 + 3x_2 − 5x_3 = 2,\\\n",
    "−2x_1 − 4x_2 + 5x_3 = 5,\\\n",
    "8x_1 + 8x_2 = −3."
   ]
  },
  {
   "cell_type": "code",
   "execution_count": 1,
   "metadata": {},
   "outputs": [],
   "source": [
    "from numpy import array, zeros"
   ]
  },
  {
   "cell_type": "code",
   "execution_count": 3,
   "metadata": {},
   "outputs": [],
   "source": [
    "a = array([[4, 3, -5],\n",
    "           [-2, -4, 5],\n",
    "           [8, 8, 0]], float)\n",
    "b = array([2, 5, -3], float)"
   ]
  },
  {
   "cell_type": "code",
   "execution_count": 4,
   "metadata": {},
   "outputs": [],
   "source": [
    "n = len(b)\n",
    "x = zeros(n, float)"
   ]
  },
  {
   "cell_type": "code",
   "execution_count": 5,
   "metadata": {},
   "outputs": [
    {
     "name": "stdout",
     "output_type": "stream",
     "text": [
      "[[ 4.  3. -5.]\n",
      " [ 0. -5.  5.]\n",
      " [ 0.  0. 30.]]\n",
      "[ 2.  12.  -5.5]\n"
     ]
    }
   ],
   "source": [
    "# Elimination\n",
    "for k in range (n-1):\n",
    "  for i in range (k+1, n):\n",
    "    if a[i,k] == 0: continue\n",
    "    factor = a[k,k]/a[i,k]\n",
    "    for j in range(k, n):\n",
    "      a[i,j] = a[k,j] - a[i,j]*factor\n",
    "    b[i] = b[k] - b[i]*factor\n",
    "\n",
    "print(a)\n",
    "print(b)"
   ]
  },
  {
   "cell_type": "code",
   "execution_count": 6,
   "metadata": {},
   "outputs": [
    {
     "name": "stdout",
     "output_type": "stream",
     "text": [
      "The solution of the system: \n",
      "[ 2.20833333 -2.58333333 -0.18333333]\n"
     ]
    }
   ],
   "source": [
    "# Back-substitution\n",
    "x[n-1] = b[n-1] / a[n-1, n-1]\n",
    "for i in range(n-2, -1, -1):\n",
    "  sum_ax = 0\n",
    "  for j in range(i+1, n):\n",
    "    sum_ax += a[i,j] * x[j]\n",
    "  x[i] = (b[i] - sum_ax) / a[i,i]\n",
    "\n",
    "print('The solution of the system: ')\n",
    "print(x)"
   ]
  }
 ],
 "metadata": {
  "kernelspec": {
   "display_name": "Python 3",
   "language": "python",
   "name": "python3"
  },
  "language_info": {
   "codemirror_mode": {
    "name": "ipython",
    "version": 3
   },
   "file_extension": ".py",
   "mimetype": "text/x-python",
   "name": "python",
   "nbconvert_exporter": "python",
   "pygments_lexer": "ipython3",
   "version": "3.12.2"
  }
 },
 "nbformat": 4,
 "nbformat_minor": 2
}
