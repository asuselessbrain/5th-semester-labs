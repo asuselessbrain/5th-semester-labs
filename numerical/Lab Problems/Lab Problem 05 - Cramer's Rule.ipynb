{
 "cells": [
  {
   "cell_type": "markdown",
   "metadata": {},
   "source": [
    "## Cramer's Rule"
   ]
  },
  {
   "cell_type": "markdown",
   "metadata": {},
   "source": [
    "Name: Arfan Ahmed <br>\n",
    "ID: 2002040 <br>\n",
    "Registration No: 09557"
   ]
  },
  {
   "cell_type": "markdown",
   "metadata": {},
   "source": [
    "Equation to solve: <br>\n",
    "3x1 - 0.1x2 - 0.2x3 = 7.85 <br>\n",
    "0.1x1 + 7x2 - 0.3x3 = -19.3 <br>\n",
    "0.3x1 - 0.2x2 + 10x3 = 71.4"
   ]
  },
  {
   "cell_type": "code",
   "execution_count": 6,
   "metadata": {},
   "outputs": [
    {
     "name": "stdout",
     "output_type": "stream",
     "text": [
      "The Solution of the System:\n",
      "X[1] = 3.0\n",
      "X[2] = -2.5\n",
      "X[3] = 7.0\n"
     ]
    }
   ],
   "source": [
    "from numpy import array, delete\n",
    "# delete(arr, obj = row/col no. or slice, axis = 0 for row/1 for col)\n",
    "\n",
    "def smaller_matrix(matrix, j):\n",
    "    new_matrix = matrix.copy()              # keeping original matrix unchanged\n",
    "    new_matrix = delete(new_matrix, 0, 0)   # remove cofactor row 0\n",
    "    new_matrix = delete(new_matrix, j, 1)   # remove cofactor coloumn j\n",
    "    return new_matrix\n",
    "\n",
    "def determinant(matrix):\n",
    "    num_rows = len(matrix)\n",
    "    \n",
    "    for row in matrix:\n",
    "        if len(row) != num_rows:\n",
    "            print(\"\\nNot a Square Matrix\")\n",
    "            return None\n",
    "    \n",
    "    if num_rows == 1:\n",
    "        return matrix[0][0]\n",
    "    \n",
    "    elif num_rows == 2:\n",
    "        base_determinant = matrix[0][0]*matrix[1][1] - matrix[1][0]*matrix[0][1]\n",
    "        return base_determinant\n",
    "    else:   \n",
    "        answer = 0\n",
    "        num_coloumns = num_rows                         # Cofactor Expansion on\n",
    "        for j in range(num_coloumns):                   # row 0, col j -1^(0+j)\n",
    "            cofactor = (-1) ** j * matrix[0][j] \\\n",
    "            * determinant(smaller_matrix(matrix, j))    # Recursive fn finds\n",
    "            answer += cofactor                          # det of smaller matrix \n",
    "        return answer\n",
    "\n",
    "'''\n",
    "# ~~~~~~~~~~~~~~~~~~~~~~~~~~~ Taking user input ~~~~~~~~~~~~~~~~~~~~~~~~~~~\n",
    "while True:\n",
    "    try:\n",
    "        N = int(input(\"Enter the Number of Equations: \"))\n",
    "        if N > 0: break\n",
    "        else: print(\"Number of Equations must be greater than 0\")\n",
    "    except ValueError:\n",
    "        print(\"Enter a Natural Number\")\n",
    "        \n",
    "col, colB = [], []\n",
    "for i in range(N):\n",
    "    row = []\n",
    "    for j in range(N):\n",
    "        while True:\n",
    "            try:\n",
    "                coeff = float(input(\"Enter Coefficient \"+str(j+1)+\\\n",
    "                                    \" of Equation \"+str(i+1)+\": \"))\n",
    "            except ValueError:\n",
    "                print(\"Enter a Real Number\")\n",
    "                continue\n",
    "            else: break\n",
    "        row.append(coeff)\n",
    "    col.append(row)\n",
    "    \n",
    "    while True:\n",
    "        try:\n",
    "            const = float(input(\"Enter the Constant of Equation \"+str(i+1)+\": \"))\n",
    "        except ValueError:\n",
    "                print(\"Enter a Real Number\")\n",
    "                continue\n",
    "        else: break\n",
    "    colB.append(const)\n",
    "\n",
    "A = array(col, float)\n",
    "B = array(colB, float)\n",
    "print()\n",
    "# ~~~~~~~~~~~~~~~~~~~~~~~~~~~~~~~~~~~~~~~~~~~~~~~~~~~~~~~~~~~~~~~~~~~~~~~~~\n",
    "'''\n",
    "\n",
    "# System of Equations\n",
    "\n",
    "A = array([[3, -0.1, -0.2],\n",
    "           [0.1, 7, -0.3],\n",
    "           [0.3, -0.2, 10]], float)\n",
    "B = array([7.85, -19.3, 71.4], float)\n",
    "\n",
    "N = len(B)\n",
    "\n",
    "\n",
    "coeffMatrix = determinant(A)        # [D]\n",
    "\n",
    "# Coincident or Parallel Equations\n",
    "if abs(coeffMatrix) < 1e-12:        # Singuar Matrix, ZeroDivisionError\n",
    "    print(\"Two or More Equations are Coincident or Parallel\")\n",
    "    raise SystemExit\n",
    "\n",
    "detMatrix = []\n",
    "for j in range(N):\n",
    "\n",
    "    C = A.copy()                    # Making a copy to keep A unchanged \n",
    "    C [:, j] = B                    # Replace i th coloumn of C with B\n",
    "\n",
    "    Dx = determinant(C)             # |Dx|, |Dy|, |Dz|\n",
    "    detMatrix.append(Dx)            # [Dx, Dy, Dz]\n",
    "\n",
    "xMatrix = detMatrix / coeffMatrix   # [Dx/D, Dy/D, Dz/D]\n",
    "\n",
    "\n",
    "print(\"The Solution of the System:\")\n",
    "for i in range(N):\n",
    "    print('X[', i+1, '] = ', round(xMatrix[i], 6), sep='')\n",
    "\n"
   ]
  }
 ],
 "metadata": {
  "kernelspec": {
   "display_name": "base",
   "language": "python",
   "name": "python3"
  },
  "language_info": {
   "codemirror_mode": {
    "name": "ipython",
    "version": 3
   },
   "file_extension": ".py",
   "mimetype": "text/x-python",
   "name": "python",
   "nbconvert_exporter": "python",
   "pygments_lexer": "ipython3",
   "version": "3.12.2"
  }
 },
 "nbformat": 4,
 "nbformat_minor": 2
}
