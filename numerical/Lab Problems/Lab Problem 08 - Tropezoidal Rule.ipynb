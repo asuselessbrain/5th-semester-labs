{
 "cells": [
  {
   "cell_type": "markdown",
   "metadata": {},
   "source": [
    "## Trapezoidal Method"
   ]
  },
  {
   "cell_type": "code",
   "execution_count": 6,
   "metadata": {},
   "outputs": [
    {
     "name": "stdout",
     "output_type": "stream",
     "text": [
      "Integration result by Trapezoidal method is: 335.0000\n"
     ]
    }
   ],
   "source": [
    "# Define function to integrate\n",
    "def f(x):\n",
    "    return x**2\n",
    "\n",
    "# Implementing trapezoidal method\n",
    "def trapezoidal(x0,xn,n):\n",
    "    # calculating step size\n",
    "    h = (xn - x0) / n\n",
    "    \n",
    "    # Finding sum \n",
    "    integration = f(x0) + f(xn)\n",
    "    \n",
    "    for i in range(1,n):\n",
    "        k = x0 + i*h\n",
    "        integration = integration + 2 * f(k)\n",
    "    \n",
    "    # Finding final integration value\n",
    "    integration = integration * h/2\n",
    "    \n",
    "    return integration\n",
    "    \n",
    "# Input section\n",
    "lower_limit = float(input(\"Enter lower limit of integration: \"))\n",
    "upper_limit = float(input(\"Enter upper limit of integration: \"))\n",
    "sub_interval = int(input(\"Enter number of sub intervals: \"))\n",
    "\n",
    "# Call trapezoidal() method and get result\n",
    "result = trapezoidal(lower_limit, upper_limit, sub_interval)\n",
    "print(f\"Integration result by Trapezoidal method is: %0.4f\" % (result) )"
   ]
  }
 ],
 "metadata": {
  "kernelspec": {
   "display_name": "Python 3",
   "language": "python",
   "name": "python3"
  },
  "language_info": {
   "codemirror_mode": {
    "name": "ipython",
    "version": 3
   },
   "file_extension": ".py",
   "mimetype": "text/x-python",
   "name": "python",
   "nbconvert_exporter": "python",
   "pygments_lexer": "ipython3",
   "version": "3.12.3"
  }
 },
 "nbformat": 4,
 "nbformat_minor": 2
}
