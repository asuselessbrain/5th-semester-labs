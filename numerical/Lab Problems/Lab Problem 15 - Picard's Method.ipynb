{
 "cells": [
  {
   "cell_type": "markdown",
   "metadata": {},
   "source": [
    "### Picard's Method"
   ]
  },
  {
   "cell_type": "code",
   "execution_count": 1,
   "metadata": {},
   "outputs": [
    {
     "name": "stdout",
     "output_type": "stream",
     "text": [
      "\n",
      "X\n",
      "0 0.4 0.8 1.2 1.6 2.0 2.4 2.8 \n",
      "\n",
      "Y(1)\n",
      "1.0 1.48 2.12 2.92 3.88 5.0 6.28 7.72 \n",
      "\n",
      "Y(2)\n",
      "1.0 1.5045 2.3419 3.7552 6.0645 9.6667 15.0352 22.7205 \n",
      "\n",
      "Y(3)\n",
      "1.0 1.5053 2.3692 3.9833 7.1131 13.1333 24.3249 44.2335 "
     ]
    }
   ],
   "source": [
    "# Python3 program for Picard's iterative method\n",
    "\n",
    "import math\n",
    "\n",
    "# required macros defined below:\n",
    "def Y1(x): \n",
    "\treturn (1 + (x) + pow(x, 2) / 2) \n",
    "def Y2(x):\n",
    "\treturn (1 + (x) + pow(x, 2) / 2 + pow(x, 3) / 3 + pow(x, 4) / 8) \n",
    "def Y3(x) :\n",
    "\treturn (1 + (x) + pow(x, 2) / 2 + pow(x, 3) / 3 + pow(x, 4) / 8 + pow(x, 5) / 15 + pow(x, 6) / 48)\n",
    "\n",
    "start_value = 0\n",
    "end_value = 3\n",
    "allowed_error = 0.4\n",
    "y1 = [0 for _ in range(30)]\n",
    "y2 = [0 for _ in range(30)]\n",
    "y3 = [0 for _ in range(30)]\n",
    "\n",
    "temp = start_value\n",
    "count = 0\n",
    "while temp <= end_value:\n",
    "\n",
    "\ty1[count] = Y1(temp);\n",
    "\ty2[count] = Y2(temp);\n",
    "\ty3[count] = Y3(temp);\n",
    "\t\n",
    "\ttemp = temp + allowed_error\n",
    "\tcount += 1\n",
    "\n",
    "print(\"\\nX\");\n",
    "temp = start_value\n",
    "while temp <= end_value:\n",
    "\t\n",
    "\t# considering all values\n",
    "\t# upto 4 decimal places.\n",
    "\tprint(round(temp, 4), end = \" \")\n",
    "\ttemp = temp + allowed_error\n",
    "\t\t\n",
    "print(\"\\n\\nY(1)\");\n",
    "temp = start_value\n",
    "count = 0\n",
    "while temp <= end_value:\n",
    "\tprint(round(y1[count], 4), end = \" \")\n",
    "\n",
    "\ttemp = temp + allowed_error\n",
    "\tcount += 1\n",
    "\n",
    "print(\"\\n\\nY(2)\");\n",
    "temp = start_value\n",
    "count = 0\n",
    "while temp <= end_value:\n",
    "\tprint(round(y2[count], 4), end = \" \")\n",
    "\n",
    "\ttemp = temp + allowed_error\n",
    "\tcount += 1\n",
    "\n",
    "print(\"\\n\\nY(3)\");\n",
    "temp = start_value\n",
    "count = 0\n",
    "while temp <= end_value:\n",
    "\tprint(round(y3[count], 4), end = \" \")\n",
    "\n",
    "\ttemp = temp + allowed_error\n",
    "\tcount += 1\n",
    "\t"
   ]
  }
 ],
 "metadata": {
  "kernelspec": {
   "display_name": "Python 3",
   "language": "python",
   "name": "python3"
  },
  "language_info": {
   "codemirror_mode": {
    "name": "ipython",
    "version": 3
   },
   "file_extension": ".py",
   "mimetype": "text/x-python",
   "name": "python",
   "nbconvert_exporter": "python",
   "pygments_lexer": "ipython3",
   "version": "3.12.3"
  }
 },
 "nbformat": 4,
 "nbformat_minor": 2
}
