{
 "cells": [
  {
   "cell_type": "markdown",
   "metadata": {},
   "source": [
    "## Simpson's 1/3 Rule"
   ]
  },
  {
   "cell_type": "code",
   "execution_count": 1,
   "metadata": {},
   "outputs": [
    {
     "name": "stdout",
     "output_type": "stream",
     "text": [
      "1.827847\n"
     ]
    }
   ],
   "source": [
    "import math \n",
    "  \n",
    "# Function to calculate f(x) \n",
    "def func( x ): \n",
    "    return math.log(x) \n",
    "  \n",
    "# Function for approximate integral \n",
    "def simpsons_( ll, ul, n ): \n",
    "  \n",
    "    # Calculating the value of h \n",
    "    h = ( ul - ll )/n \n",
    "  \n",
    "    # List for storing value of x and f(x) \n",
    "    x = list() \n",
    "    fx = list() \n",
    "      \n",
    "    # Calculating values of x and f(x) \n",
    "    i = 0\n",
    "    while i<= n: \n",
    "        x.append(ll + i * h) \n",
    "        fx.append(func(x[i])) \n",
    "        i += 1\n",
    "  \n",
    "    # Calculating result \n",
    "    res = 0\n",
    "    i = 0\n",
    "    while i<= n: \n",
    "        if i == 0 or i == n: \n",
    "            res+= fx[i] \n",
    "        elif i % 2 != 0: \n",
    "            res+= 4 * fx[i] \n",
    "        else: \n",
    "            res+= 2 * fx[i] \n",
    "        i+= 1\n",
    "    res = res * (h / 3) \n",
    "    return res \n",
    "      \n",
    "# Driver code \n",
    "lower_limit = 4   # Lower limit \n",
    "upper_limit = 5.2 # Upper limit \n",
    "n = 6 # Number of interval \n",
    "print(\"%.6f\"% simpsons_(lower_limit, upper_limit, n)) "
   ]
  },
  {
   "cell_type": "markdown",
   "metadata": {},
   "source": [
    "## Simpson’s 3/8 Rule"
   ]
  },
  {
   "cell_type": "code",
   "execution_count": 2,
   "metadata": {},
   "outputs": [
    {
     "name": "stdout",
     "output_type": "stream",
     "text": [
      "0.687927\n"
     ]
    }
   ],
   "source": [
    "# Given function to be integrated\n",
    "def func(x):\n",
    "     \n",
    "    return (float(1) / ( 1 + x * x ))\n",
    " \n",
    "  \n",
    "# Function to perform calculations\n",
    "def calculate(lower_limit, upper_limit, interval_limit ):\n",
    "     \n",
    "    interval_size = (float(upper_limit - lower_limit) / interval_limit)\n",
    "    sum = func(lower_limit) + func(upper_limit);\n",
    "  \n",
    "    # Calculates value till integral limit\n",
    "    for i in range(1, interval_limit ):\n",
    "        if (i % 3 == 0):\n",
    "            sum = sum + 2 * func(lower_limit + i * interval_size)\n",
    "        else:\n",
    "            sum = sum + 3 * func(lower_limit + i * interval_size)\n",
    "     \n",
    "    return ((float( 3 * interval_size) / 8 ) * sum )\n",
    " \n",
    "# driver function\n",
    "interval_limit = 10\n",
    "lower_limit = 1\n",
    "upper_limit = 10\n",
    " \n",
    "integral_res = calculate(lower_limit, upper_limit, interval_limit)\n",
    " \n",
    "# rounding the final answer to 6 decimal places \n",
    "print (round(integral_res, 6))"
   ]
  }
 ],
 "metadata": {
  "kernelspec": {
   "display_name": "Python 3",
   "language": "python",
   "name": "python3"
  },
  "language_info": {
   "codemirror_mode": {
    "name": "ipython",
    "version": 3
   },
   "file_extension": ".py",
   "mimetype": "text/x-python",
   "name": "python",
   "nbconvert_exporter": "python",
   "pygments_lexer": "ipython3",
   "version": "3.12.3"
  }
 },
 "nbformat": 4,
 "nbformat_minor": 2
}
