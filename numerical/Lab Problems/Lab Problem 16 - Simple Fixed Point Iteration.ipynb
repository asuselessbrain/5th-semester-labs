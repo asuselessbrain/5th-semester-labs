{
 "cells": [
  {
   "cell_type": "markdown",
   "metadata": {},
   "source": [
    "# Fixed Point Iteration Method"
   ]
  },
  {
   "cell_type": "code",
   "execution_count": 1,
   "metadata": {},
   "outputs": [
    {
     "name": "stdout",
     "output_type": "stream",
     "text": [
      "\n",
      "\n",
      "*** FIXED POINT ITERATION ***\n",
      "Iteration-1, x1 = 0.577350 and f(x1) = -0.474217\n",
      "Iteration-2, x1 = 0.796225 and f(x1) = 0.138761\n",
      "Iteration-3, x1 = 0.746139 and f(x1) = -0.027884\n",
      "Iteration-4, x1 = 0.756764 and f(x1) = 0.006085\n",
      "Iteration-5, x1 = 0.754472 and f(x1) = -0.001305\n",
      "Iteration-6, x1 = 0.754965 and f(x1) = 0.000281\n",
      "Iteration-7, x1 = 0.754859 and f(x1) = -0.000060\n",
      "Iteration-8, x1 = 0.754882 and f(x1) = 0.000013\n",
      "Iteration-9, x1 = 0.754877 and f(x1) = -0.000003\n",
      "\n",
      "Required root is: 0.75487680\n"
     ]
    }
   ],
   "source": [
    "# Importing math to use sqrt function\n",
    "import math\n",
    "\n",
    "def f(x):\n",
    "    return x*x*x + x*x -1\n",
    "\n",
    "# Re-writing f(x)=0 to x = g(x)\n",
    "def g(x):\n",
    "    return 1/math.sqrt(1+x)\n",
    "\n",
    "# Implementing Fixed Point Iteration Method\n",
    "def fixedPointIteration(x0, e, N):\n",
    "    print('\\n\\n*** FIXED POINT ITERATION ***')\n",
    "    step = 1\n",
    "    flag = 1\n",
    "    condition = True\n",
    "    while condition:\n",
    "        x1 = g(x0)\n",
    "        print('Iteration-%d, x1 = %0.6f and f(x1) = %0.6f' % (step, x1, f(x1)))\n",
    "        x0 = x1\n",
    "\n",
    "        step = step + 1\n",
    "        \n",
    "        if step > N:\n",
    "            flag=0\n",
    "            break\n",
    "        \n",
    "        condition = abs(f(x1)) > e\n",
    "\n",
    "    if flag==1:\n",
    "        print('\\nRequired root is: %0.8f' % x1)\n",
    "    else:\n",
    "        print('\\nNot Convergent.')\n",
    "\n",
    "# Input Section\n",
    "x0 = input('Enter Guess: ')\n",
    "e = input('Tolerable Error: ')\n",
    "N = input('Maximum Step: ')\n",
    "\n",
    "# Converting x0 and e to float\n",
    "x0 = float(x0)\n",
    "e = float(e)\n",
    "\n",
    "# Converting N to integer\n",
    "N = int(N)\n",
    "\n",
    "\n",
    "#Note: You can combine above three section like this\n",
    "# x0 = float(input('Enter Guess: '))\n",
    "# e = float(input('Tolerable Error: '))\n",
    "# N = int(input('Maximum Step: '))\n",
    "\n",
    "# Starting Newton Raphson Method\n",
    "fixedPointIteration(x0,e,N)"
   ]
  }
 ],
 "metadata": {
  "kernelspec": {
   "display_name": "Python 3",
   "language": "python",
   "name": "python3"
  },
  "language_info": {
   "codemirror_mode": {
    "name": "ipython",
    "version": 3
   },
   "file_extension": ".py",
   "mimetype": "text/x-python",
   "name": "python",
   "nbconvert_exporter": "python",
   "pygments_lexer": "ipython3",
   "version": "3.12.3"
  }
 },
 "nbformat": 4,
 "nbformat_minor": 2
}
